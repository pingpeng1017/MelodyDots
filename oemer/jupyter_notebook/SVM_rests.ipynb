{
 "cells": [
  {
   "cell_type": "code",
   "execution_count": 1,
   "id": "6194f3d3",
   "metadata": {},
   "outputs": [],
   "source": [
    "from os import remove\n",
    "import random\n",
    "from pathlib import Path\n",
    "from PIL import Image\n",
    "import pickle\n",
    "import augly.image as imaugs\n",
    "import numpy as np\n",
    "from sklearn import svm\n",
    "from sklearn.model_selection import GridSearchCV\n",
    "from oemer.bbox import get_bbox, merge_nearby_bbox, draw_bounding_boxes, rm_merge_overlap_bbox\n",
    "from oemer.build_label import find_example"
   ]
  },
  {
   "cell_type": "code",
   "execution_count": 2,
   "id": "b1bd840a",
   "metadata": {},
   "outputs": [],
   "source": [
    "TARGET_WIDTH = 40\n",
    "TARGET_HEIGHT = 70\n",
    "DISTANCE = 10\n",
    "\n",
    "DATASET_PATH = \"./ds2_dense/segmentation\""
   ]
  },
  {
   "cell_type": "code",
   "execution_count": 3,
   "id": "a9d17557",
   "metadata": {},
   "outputs": [],
   "source": [
    "def _collect(color, out_path, samples=400):\n",
    "    out_path = Path(out_path)\n",
    "    if not out_path.exists():\n",
    "        out_path.mkdir()\n",
    "\n",
    "    cur_samples = 0\n",
    "    add_space = 10\n",
    "    idx = 0\n",
    "    while cur_samples < samples:\n",
    "        arr = find_example(DATASET_PATH, color)\n",
    "        if arr is None:\n",
    "            continue\n",
    "        arr[arr!=200] = 0\n",
    "        boxes = get_bbox(arr)\n",
    "        if len(boxes) > 1:\n",
    "            boxes = merge_nearby_bbox(boxes, DISTANCE)\n",
    "        boxes = rm_merge_overlap_bbox(boxes)\n",
    "        for box in boxes:\n",
    "            if idx >= samples:\n",
    "                break\n",
    "            print(f\"{idx+1}/{samples}\", end='\\r')\n",
    "            patch = arr[box[1]-add_space:box[3]+add_space, box[0]-add_space:box[2]+add_space]\n",
    "            ratio = random.choice(np.arange(0.6, 1.3, 0.1))\n",
    "            tar_w = int(ratio * patch.shape[1])\n",
    "            tar_h = int(ratio * patch.shape[0])\n",
    "            img = imaugs.resize(Image.fromarray(patch.astype(np.uint8)), width=tar_w, height=tar_h)\n",
    "\n",
    "            seed = random.randint(0, 1000)\n",
    "            img = imaugs.perspective_transform(img, seed=seed, sigma=3)\n",
    "            img = np.where(np.array(img)>0, 255, 0)\n",
    "            Image.fromarray(patch.astype(np.uint8)).save(out_path / f\"{idx}.png\")\n",
    "            idx += 1\n",
    "\n",
    "        cur_samples += len(boxes)\n",
    "    print()"
   ]
  },
  {
   "cell_type": "code",
   "execution_count": 4,
   "id": "c5ce460b",
   "metadata": {},
   "outputs": [],
   "source": [
    "def collect_data(samples=400):\n",
    "    color_map = {\n",
    "#         74: \"sharp\",\n",
    "#         70: \"flat\",\n",
    "#         72: \"natural\",\n",
    "        97: 'rest_whole',\n",
    "        98: 'rest_half',\n",
    "        99: 'rest_quarter',\n",
    "        100: 'rest_8th',\n",
    "#         101: 'rest_16th',\n",
    "#         102: 'rest_32nd',\n",
    "#         103: 'rest_64th',\n",
    "#         104: 'rest_128th'\n",
    "        # 10: 'gclef',\n",
    "        # 13: 'fclef',\n",
    "        # 추가: time signature에 해당하는 데이터\n",
    "#         21: 'timesig_0',\n",
    "#         22: 'timesig_1',\n",
    "#         23: 'timesig_2',\n",
    "#         24: 'timesig_3',\n",
    "#         25: 'timesig_4',\n",
    "#         26: 'timesig_5',\n",
    "#         27: 'timesig_6',\n",
    "#         28: 'timesig_7',\n",
    "#         29: 'timesig_8',\n",
    "#         30: 'timesig_9',\n",
    "#         33: 'timesig_4_4',\n",
    "#         34: 'timesig_2_2',\n",
    "    }\n",
    "    \n",
    "    for color, name in color_map.items():\n",
    "        print('Current', name)\n",
    "        _collect(color, f\"./ds2_dense/train_data/{name}\", samples=samples)\n",
    "        _collect(color, f\"./ds2_dense/test_data/{name}\", samples=samples)"
   ]
  },
  {
   "cell_type": "code",
   "execution_count": 5,
   "id": "54a23791",
   "metadata": {},
   "outputs": [],
   "source": [
    "def train(folders):\n",
    "    class_map = {idx: Path(ff).name for idx, ff in enumerate(folders)}\n",
    "    train_x = []\n",
    "    train_y = []\n",
    "    samples = None\n",
    "    print(\"Loading data\")\n",
    "    for cidx, folder in enumerate(folders):\n",
    "        folder = Path(folder)\n",
    "        idx = 0\n",
    "        for ff in folder.glob('*.png'):\n",
    "            if samples is not None and idx >= samples:\n",
    "                break\n",
    "            img = Image.open(ff).resize((TARGET_WIDTH, TARGET_HEIGHT))\n",
    "            arr = np.array(img).flatten()\n",
    "            train_x.append(arr)\n",
    "            train_y.append(cidx)\n",
    "            idx += 1\n",
    "    print(\"Train model\")\n",
    "    model = svm.SVC()\n",
    "    model.fit(train_x, train_y)\n",
    "\n",
    "    return model, class_map"
   ]
  },
  {
   "cell_type": "code",
   "execution_count": 6,
   "id": "ade8246f",
   "metadata": {},
   "outputs": [],
   "source": [
    "def test(model, folders):\n",
    "    test_x = []\n",
    "    test_y = []\n",
    "    samples = 400\n",
    "    print(\"Loading data\")\n",
    "    for cidx, folder in enumerate(folders):\n",
    "        folder = Path(folder)\n",
    "        idx = 0\n",
    "        files = list(folder.glob('*.png'))\n",
    "        random.shuffle(files)\n",
    "        for ff in tqdm(files[:samples], desc=f\"Folder {cidx+1}/{len(folders)}\", ncols=800):  # Add tqdm for progress bar\n",
    "            img = Image.open(ff).resize((TARGET_WIDTH, TARGET_HEIGHT))\n",
    "            arr = np.array(img).flatten()\n",
    "            test_x.append(arr)\n",
    "            test_y.append(cidx)\n",
    "            idx += 1\n",
    "\n",
    "    pred_y = model.predict(test_x)\n",
    "    tp_idx = (pred_y == test_y)\n",
    "    tp = len(pred_y[tp_idx])\n",
    "    acc = tp / len(test_y)\n",
    "    print(\"Accuracy: \", acc)\n",
    "\n",
    "\n",
    "    # 클래스 별 정확도 계산\n",
    "    class_accuracy = {}\n",
    "    for cidx, folder in enumerate(folders):\n",
    "        idx = np.where(np.array(test_y) == cidx)\n",
    "        class_accuracy[folder] = accuracy_score(np.array(test_y)[idx], np.array(pred_y)[idx])\n",
    "\n",
    "    # 파일 경로에서 폴더 이름만 추출하여 X 축에 표시\n",
    "    class_names = [folder.split(\"/\")[-1] for folder in class_accuracy.keys()]\n",
    "\n",
    "    plt.figure(figsize=(8, 6))\n",
    "\n",
    "    colors = ['skyblue', 'lightgreen', 'lightcoral', 'lightsalmon']\n",
    "\n",
    "    # 그래프 생성\n",
    "    bars = plt.bar(class_names, class_accuracy.values(), color=colors)\n",
    "\n",
    "    plt.xlabel('Class', fontsize=12)\n",
    "    plt.ylabel('Accuracy', fontsize=12)\n",
    "    plt.title('Class-wise Accuracy', fontsize=14)\n",
    "    plt.xticks(rotation=45)\n",
    "    plt.ylim(0, 1)\n",
    "\n",
    "    plt.tight_layout()\n",
    "    plt.show()"
   ]
  },
  {
   "cell_type": "code",
   "execution_count": 7,
   "id": "5678bbb6",
   "metadata": {},
   "outputs": [],
   "source": [
    "def predict(region, model_name):\n",
    "    if np.max(region) == 1:\n",
    "        region *= 255\n",
    "    m_info = pickle.load(open(f\"sklearn_models/{model_name}.model\", \"rb\"))\n",
    "    model = m_info['model']\n",
    "    w = m_info['w']\n",
    "    h = m_info['h']\n",
    "    region = Image.fromarray(region.astype(np.uint8)).resize((w, h))\n",
    "    pred = model.predict(np.array(region).reshape(1, -1))\n",
    "    return m_info['class_map'][pred[0]]"
   ]
  },
  {
   "cell_type": "code",
   "execution_count": 8,
   "id": "6fe275be",
   "metadata": {},
   "outputs": [
    {
     "name": "stdout",
     "output_type": "stream",
     "text": [
      "Current rest_whole\n",
      "400/400\n",
      "400/400\n",
      "Current rest_half\n",
      "400/400\n",
      "400/400\n",
      "Current rest_quarter\n",
      "400/400\n",
      "400/400\n",
      "Current rest_8th\n",
      "400/400\n",
      "400/400\n"
     ]
    }
   ],
   "source": [
    "samples = 400\n",
    "\n",
    "collect_data(samples=samples)\n",
    "\n",
    "folders = [\"rest_whole\", \"rest_half\", \"rest_quarter\", \"rest_8th\"]\n",
    "model_name = \"rests\""
   ]
  },
  {
   "cell_type": "code",
   "execution_count": 9,
   "id": "ee8a0a0e",
   "metadata": {
    "scrolled": false
   },
   "outputs": [
    {
     "name": "stdout",
     "output_type": "stream",
     "text": [
      "Loading data\n",
      "Train model\n"
     ]
    }
   ],
   "source": [
    "model, class_map = train([f\"ds2_dense/train_data/{folder}\" for folder in folders])"
   ]
  },
  {
   "cell_type": "code",
   "execution_count": 10,
   "id": "7a159605",
   "metadata": {
    "scrolled": false
   },
   "outputs": [
    {
     "name": "stdout",
     "output_type": "stream",
     "text": [
      "Loading data\n"
     ]
    },
    {
     "name": "stderr",
     "output_type": "stream",
     "text": [
      "Folder 1/4: 100%|███████████████████████████████████████████████████████████████████████████████████████████████████████████████████████████████████████████████████████████████████████████████████████████████████████████████████████████████████████████████████████████████████████████████████████████████████████████████████████████████████████████████████████████████████████████████████████████████████████████████████████████████████████████████████████████████████████████████████████████████████████████████████████████████████████████████████████████████████████████████████████████████████████████████████████████████████████████████████████████████████████████████████████████████████████████████████████████████████████████████████████████████████████████| 400/400 [00:00<00:00, 1038.85it/s]\n",
      "Folder 2/4: 100%|████████████████████████████████████████████████████████████████████████████████████████████████████████████████████████████████████████████████████████████████████████████████████████████████████████████████████████████████████████████████████████████████████████████████████████████████████████████████████████████████████████████████████████████████████████████████████████████████████████████████████████████████████████████████████████████████████████████████████████████████████████████████████████████████████████████████████████████████████████████████████████████████████████████████████████████████████████████████████████████████████████████████████████████████████████████████████████████████████████████████████████████████████████████| 400/400 [00:00<00:00, 917.16it/s]\n",
      "Folder 3/4: 100%|████████████████████████████████████████████████████████████████████████████████████████████████████████████████████████████████████████████████████████████████████████████████████████████████████████████████████████████████████████████████████████████████████████████████████████████████████████████████████████████████████████████████████████████████████████████████████████████████████████████████████████████████████████████████████████████████████████████████████████████████████████████████████████████████████████████████████████████████████████████████████████████████████████████████████████████████████████████████████████████████████████████████████████████████████████████████████████████████████████████████████████████████████████████| 400/400 [00:01<00:00, 394.44it/s]\n",
      "Folder 4/4: 100%|████████████████████████████████████████████████████████████████████████████████████████████████████████████████████████████████████████████████████████████████████████████████████████████████████████████████████████████████████████████████████████████████████████████████████████████████████████████████████████████████████████████████████████████████████████████████████████████████████████████████████████████████████████████████████████████████████████████████████████████████████████████████████████████████████████████████████████████████████████████████████████████████████████████████████████████████████████████████████████████████████████████████████████████████████████████████████████████████████████████████████████████████████████████| 400/400 [00:00<00:00, 435.18it/s]\n"
     ]
    },
    {
     "name": "stdout",
     "output_type": "stream",
     "text": [
      "Accuracy:  0.790625\n"
     ]
    },
    {
     "data": {
      "image/png": "[encoded data removed]",
      "text/plain": [
       "<Figure size 800x600 with 1 Axes>"
      ]
     },
     "metadata": {},
     "output_type": "display_data"
    }
   ],
   "source": [
    "from tqdm import tqdm\n",
    "from sklearn.metrics import accuracy_score\n",
    "import matplotlib.pyplot as plt\n",
    "\n",
    "test(model, [f\"ds2_dense/test_data/{folder}\" for folder in folders])"
   ]
  },
  {
   "cell_type": "code",
   "execution_count": 11,
   "id": "c4f12a3d",
   "metadata": {},
   "outputs": [],
   "source": [
    "output = {'model': model, 'w': TARGET_WIDTH, 'h': TARGET_HEIGHT, 'class_map': class_map}\n",
    "pickle.dump(output, open(f\"sklearn_models/{model_name}.model\", \"wb\"))"
   ]
  }
 ],
 "metadata": {
  "kernelspec": {
   "display_name": "oemer",
   "language": "python",
   "name": "oemer"
  },
  "language_info": {
   "codemirror_mode": {
    "name": "ipython",
    "version": 3
   },
   "file_extension": ".py",
   "mimetype": "text/x-python",
   "name": "python",
   "nbconvert_exporter": "python",
   "pygments_lexer": "ipython3",
   "version": "3.8.0"
  }
 },
 "nbformat": 4,
 "nbformat_minor": 5
}
